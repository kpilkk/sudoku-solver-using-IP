{
 "cells": [
  {
   "cell_type": "code",
   "execution_count": 1,
   "metadata": {},
   "outputs": [],
   "source": [
    "def inits(sudoku):\n",
    "\tcount = 0\n",
    "\tfor row_s in sudoku:\n",
    "\t\tfor num in row_s:\n",
    "\t\t\tif num !=0:\n",
    "\t\t\t\tcount = count+1\n",
    "\treturn count"
   ]
  },
  {
   "cell_type": "code",
   "execution_count": 18,
   "metadata": {},
   "outputs": [],
   "source": [
    "def print_matrix(board):\n",
    "\tfor row in board:\n",
    "\t\tprint(row)\n",
    "\n",
    "def check_row(sudoku,x,num):\n",
    "    for j in range(len(sudoku[x])):\n",
    "        if sudoku[x][j] == num:\n",
    "            return False\n",
    "    return True\n",
    "\n",
    "def check_colm(sudoku,y,num):\n",
    "    for i in range(len(sudoku)):\n",
    "        if sudoku[i][y] == num:\n",
    "            return False\n",
    "    return True\n",
    "\n",
    "def check_subgrid(sudoku,x,y,num):\n",
    "\tx_coef = x//div_x\n",
    "\tx_coef = x_coef * div_x\n",
    "\ty_coef = y//div_y\n",
    "\ty_coef = y_coef * div_y\n",
    "\t\n",
    "\tfor i in range(div_x):\n",
    "\t\tfor j in range(div_y):\n",
    "\t\t\tif sudoku[x_coef+i][y_coef+j] == num:\n",
    "\t\t\t\treturn False\n",
    "\treturn True"
   ]
  },
  {
   "cell_type": "code",
   "execution_count": 3,
   "metadata": {},
   "outputs": [],
   "source": [
    "def check(sudoku,i,j,num):\n",
    "\treturn check_row(sudoku,i,num) and check_colm(sudoku,j,num) and check_subgrid(sudoku,i,j,num)"
   ]
  },
  {
   "cell_type": "code",
   "execution_count": 4,
   "metadata": {},
   "outputs": [],
   "source": [
    "\n",
    "def solve(doBacktrack, sudoku, i, j, count):\n",
    "\tif count == limit:\n",
    "\t\tprint(\"limit babbaya\")\n",
    "\t\tprint_matrix(sudoku)\n",
    "\t\treturn False\n",
    "\n",
    "\trows, cols = len(sudoku),len(sudoku[0])\n",
    "\n",
    "\tif (i >= rows) or (j >= cols) :\n",
    "\t\tprint(\"sizes anna\")\n",
    "\t\treturn False\n",
    "\t\n",
    "\tm = 1\n",
    "\tprint('i : ',i,' j: ',j,' m: ',m,' count: ',count)\n",
    "\tif sudoku[i][j] == 0 :\n",
    "\t\twhile (doBacktrack and (m < rows+1) and (i < rows) and (j < cols)):\n",
    "\t\t\tif check(sudoku,i,j,m):\n",
    "\t\t\t\t#print('i : ',i,' j: ',j,' m: ',m,' count: ',count)\n",
    "\t\t\t\tsudoku[i][j] = m\n",
    "\t\t\t\tif i < rows-1 and j < cols :\n",
    "\t\t\t\t\tdoBacktrack = solve(True,sudoku,i+1,j,count+1)\n",
    "\t\t\t\telif i >= rows-1 and j < cols-1:\n",
    "\t\t\t\t\tdoBacktrack = solve(True,sudoku,0,j+1,count+1)\n",
    "\t\t\t\t\n",
    "\t\t\t\tif doBacktrack and count+1 == limit:\n",
    "\t\t\t\t\tprint(\"Solved it : \\n\")\n",
    "\t\t\t\t\tprint_matrix(sudoku)\n",
    "\t\t\t\t\treturn False\n",
    "\t\t\t\tif doBacktrack:\n",
    "\t\t\t\t\tsudoku[i][j] = 0\n",
    "\t\t\t\t\t\n",
    "\t\t\tm = m + 1\n",
    "\t\tif doBacktrack and m == rows+1:\n",
    "\t\t\tprint(\"go back bitch \\n\")\n",
    "\t\t\treturn True\n",
    "\telse:\n",
    "\t\t#print('i : ',i,' j: ',j,' m: ',m,' count: ',count)\n",
    "\t\tif i<rows-1 and j<cols:\n",
    "\t\t\tdoBacktrack = solve(True,sudoku,i+1,j,count)\n",
    "\t\telif i>rows-1 and j<cols-1:\n",
    "\t\t\tdoBacktrack = solve(True,sudoku,0,j+1,count)\n",
    "\t\t\t\n",
    "\t\tif doBacktrack and count+1 == limit:\n",
    "\t\t\tprint(\"Solved it : \\n\")\n",
    "\t\t\tprint_matrix(sudoku)\n",
    "\t\t\treturn False\n",
    "\t\t\n",
    "\t\tif doBacktrack:\n",
    "\t\t\tprint(\"go back bitch \\n\")\n",
    "\t\t\treturn True\n",
    "\tprint(\"WTF\")\n",
    "\treturn False"
   ]
  },
  {
   "cell_type": "code",
   "execution_count": 5,
   "metadata": {},
   "outputs": [
    {
     "name": "stdout",
     "output_type": "stream",
     "text": [
      "rows :  9  coloumns :  9  count :  22\n",
      "Initial matrix :\n",
      "\n",
      "[0, 0, 0, 0, 0, 4, 0, 0, 0]\n",
      "[0, 0, 0, 0, 0, 0, 6, 0, 8]\n",
      "[0, 0, 8, 0, 1, 0, 0, 0, 0]\n",
      "[0, 0, 5, 0, 3, 0, 8, 0, 2]\n",
      "[0, 7, 0, 2, 0, 0, 0, 0, 1]\n",
      "[0, 6, 0, 0, 0, 0, 0, 0, 0]\n",
      "[0, 0, 0, 4, 0, 7, 0, 9, 0]\n",
      "[0, 9, 0, 0, 0, 0, 4, 7, 0]\n",
      "[0, 3, 0, 5, 2, 0, 0, 0, 0]\n"
     ]
    }
   ],
   "source": [
    "\n",
    "sudoku = [[0,0,0,0,0,4,0,0,0],\n",
    "[0,0,0,0,0,0,6,0,8],\n",
    "[0,0,8,0,1,0,0,0,0],\n",
    "[0,0,5,0,3,0,8,0,2],\n",
    "[0,7,0,2,0,0,0,0,1],\n",
    "[0,6,0,0,0,0,0,0,0], \n",
    "[0,0,0,4,0,7,0,9,0],\n",
    "[0,9,0,0,0,0,4,7,0],\n",
    "[0,3,0,5,2,0,0,0,0]]\n",
    "\n",
    "\n",
    "rows, cols = len(sudoku),len(sudoku[0])\n",
    "div_y = cols//3\n",
    "div_x = rows//div_y\n",
    "count = inits(sudoku)\n",
    "limit = rows*cols\n",
    "print('rows : ',rows,' coloumns : ',cols, ' count : ',count)\n",
    "print(\"Initial matrix :\\n\")\n",
    "print_matrix(sudoku)"
   ]
  },
  {
   "cell_type": "code",
   "execution_count": 42,
   "metadata": {},
   "outputs": [
    {
     "name": "stdout",
     "output_type": "stream",
     "text": [
      "sizes anna\n"
     ]
    }
   ],
   "source": [
    "i = 10\n",
    "if (i >= rows) or (j >= cols) :\n",
    "\t\tprint(\"sizes anna\")"
   ]
  },
  {
   "cell_type": "code",
   "execution_count": 17,
   "metadata": {},
   "outputs": [
    {
     "name": "stdout",
     "output_type": "stream",
     "text": [
      "0\n",
      "1\n",
      "2\n",
      "3\n",
      "4\n",
      "5\n",
      "6\n",
      "7\n",
      "8\n"
     ]
    }
   ],
   "source": []
  },
  {
   "cell_type": "code",
   "execution_count": null,
   "metadata": {},
   "outputs": [],
   "source": []
  }
 ],
 "metadata": {
  "kernelspec": {
   "display_name": "Python 3",
   "language": "python",
   "name": "python3"
  },
  "language_info": {
   "codemirror_mode": {
    "name": "ipython",
    "version": 3
   },
   "file_extension": ".py",
   "mimetype": "text/x-python",
   "name": "python",
   "nbconvert_exporter": "python",
   "pygments_lexer": "ipython3",
   "version": "3.7.4"
  }
 },
 "nbformat": 4,
 "nbformat_minor": 2
}
